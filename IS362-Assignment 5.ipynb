{
 "cells": [
  {
   "cell_type": "code",
   "execution_count": 16,
   "id": "af016421",
   "metadata": {},
   "outputs": [],
   "source": [
    "import numpy as np\n",
    "import pandas as pd\n",
    "\n"
   ]
  },
  {
   "cell_type": "code",
   "execution_count": 22,
   "id": "0369b456",
   "metadata": {},
   "outputs": [],
   "source": [
    "airlines = pd.read_csv('airlines.csv')\n",
    "airports = pd.read_csv('airports.csv')\n",
    "planes = pd.read_csv('planes.csv')\n",
    "weather = pd.read_csv('weather.csv')\n"
   ]
  },
  {
   "cell_type": "code",
   "execution_count": 23,
   "id": "78d59f2c",
   "metadata": {},
   "outputs": [
    {
     "data": {
      "text/plain": [
       "      faa                                        name        lat         lon  \\\n",
       "417   EEN                     Dillant Hopkins Airport  72.270833   42.898333   \n",
       "230   BRW                  Wiley Post Will Rogers Mem  71.285446 -156.766003   \n",
       "110   AIN                          Wainwright Airport  70.638056 -159.994722   \n",
       "708   K03                               Wainwright As  70.613378 -159.860350   \n",
       "152   ATK  Atqasuk Edward Burnell Sr Memorial Airport  70.467300 -157.436000   \n",
       "...   ...                                         ...        ...         ...   \n",
       "930   MUE                               Waimea Kohala  20.001328 -155.668108   \n",
       "1403  WKL                           Waikoloa Heliport  19.913600 -155.864000   \n",
       "231   BSF                                Bradshaw Aaf  19.760056 -155.553717   \n",
       "734   KOA                        Kona Intl At Keahole  19.738767 -156.045631   \n",
       "679   ITO                                   Hilo Intl  19.721375 -155.048469   \n",
       "\n",
       "       alt  tz dst              tzone  \n",
       "417    149  -5   A                NaN  \n",
       "230     44  -9   A  America/Anchorage  \n",
       "110     41  -9   A  America/Anchorage  \n",
       "708     35  -9   A  America/Anchorage  \n",
       "152     96  -9   A  America/Anchorage  \n",
       "...    ...  ..  ..                ...  \n",
       "930   2671 -10   A   Pacific/Honolulu  \n",
       "1403   109 -10   N   Pacific/Honolulu  \n",
       "231   6190 -10   A   Pacific/Honolulu  \n",
       "734     47 -10   N   Pacific/Honolulu  \n",
       "679     38 -10   N   Pacific/Honolulu  \n",
       "\n",
       "[1458 rows x 8 columns]"
      ]
     },
     "execution_count": 23,
     "metadata": {},
     "output_type": "execute_result"
    }
   ],
   "source": [
    "airports.sort_values(by=[\"lat\"], ascending=False)\n",
    "# sorts the airports by latitude in descending order"
   ]
  },
  {
   "cell_type": "code",
   "execution_count": 24,
   "id": "2f577d28",
   "metadata": {},
   "outputs": [
    {
     "data": {
      "text/plain": [
       "      faa                           name        lat         lon   alt  tz dst  \\\n",
       "1290  SYA                   Eareckson As  52.712275  174.113620    98  -9   A   \n",
       "942   MYF               Montgomery Field  32.475900  117.759000    17   8   A   \n",
       "396   DVT  Deer Valley Municipal Airport  33.411700  112.457000  1478   8   A   \n",
       "417   EEN        Dillant Hopkins Airport  72.270833   42.898333   149  -5   A   \n",
       "444   EPM     Eastport Municipal Airport  44.910111  -67.012694    45  -5   A   \n",
       "...   ...                            ...        ...         ...   ...  ..  ..   \n",
       "1251  SNP                 St Paul Island  57.167333 -170.220444    63  -9   A   \n",
       "1281  SVA               Savoonga Airport  63.686400 -170.493000    53  -9   A   \n",
       "522   GAM                Gambell Airport  63.766800 -171.733000    27  -9   A   \n",
       "112   AKB                   Atka Airport  52.220278 -174.206389    56  -9   A   \n",
       "95    ADK                   Adak Airport  51.878000 -176.646000    18  -9   A   \n",
       "\n",
       "                  tzone  \n",
       "1290  America/Anchorage  \n",
       "942      Asia/Chongqing  \n",
       "396      Asia/Chongqing  \n",
       "417                 NaN  \n",
       "444    America/New_York  \n",
       "...                 ...  \n",
       "1251  America/Anchorage  \n",
       "1281  America/Anchorage  \n",
       "522   America/Anchorage  \n",
       "112   America/Anchorage  \n",
       "95    America/Anchorage  \n",
       "\n",
       "[1458 rows x 8 columns]"
      ]
     },
     "execution_count": 24,
     "metadata": {},
     "output_type": "execute_result"
    }
   ],
   "source": [
    "# we can obersever according to latitude that Dillant Hopkins is the Northern Most airport with a lat of 72.27 and \n",
    "airports.sort_values(by=[\"lon\"], ascending=False)\n",
    "#The same can be done with longitude for eat and west the easter most being Earckson with a longitude of 174.11"
   ]
  },
  {
   "cell_type": "code",
   "execution_count": 25,
   "id": "e2e6f40a",
   "metadata": {},
   "outputs": [
    {
     "data": {
      "text/plain": [
       "      origin  year  month  day  hour  ...  wind_gust  precip  pressure  visib  \\\n",
       "1018     EWR  2013      2   12    12  ...   31.07106     0.0    1012.5   10.0   \n",
       "1019     EWR  2013      2   12    13  ...   31.07106     0.0    1012.3   10.0   \n",
       "18417    LGA  2013      2   12     2  ...   31.07106     0.0    1007.1   10.0   \n",
       "18421    LGA  2013      2   12     6  ...   28.76950     0.0    1009.4   10.0   \n",
       "18418    LGA  2013      2   12     3  ...   28.76950     0.0    1007.9   10.0   \n",
       "...      ...   ...    ...  ...   ...  ...        ...     ...       ...    ...   \n",
       "18431    LGA  2013      2   12    16  ...        NaN     0.0    1010.4   10.0   \n",
       "18435    LGA  2013      2   12    20  ...        NaN     0.0    1013.6   10.0   \n",
       "18436    LGA  2013      2   12    21  ...        NaN     0.0    1012.8   10.0   \n",
       "18437    LGA  2013      2   12    22  ...        NaN     0.0    1012.7   10.0   \n",
       "18438    LGA  2013      2   12    23  ...        NaN     0.0    1013.5   10.0   \n",
       "\n",
       "                  time_hour  \n",
       "1018   2013-02-12T17:00:00Z  \n",
       "1019   2013-02-12T18:00:00Z  \n",
       "18417  2013-02-12T07:00:00Z  \n",
       "18421  2013-02-12T11:00:00Z  \n",
       "18418  2013-02-12T08:00:00Z  \n",
       "...                     ...  \n",
       "18431  2013-02-12T21:00:00Z  \n",
       "18435  2013-02-13T01:00:00Z  \n",
       "18436  2013-02-13T02:00:00Z  \n",
       "18437  2013-02-13T03:00:00Z  \n",
       "18438  2013-02-13T04:00:00Z  \n",
       "\n",
       "[72 rows x 15 columns]"
      ]
     },
     "execution_count": 25,
     "metadata": {},
     "output_type": "execute_result"
    }
   ],
   "source": [
    "weather[(weather[\"month\"]==2) & (weather[\"day\"]==12) & (weather[\"year\"]==2013)].sort_values(by=[\"wind_gust\"], ascending=False)\n",
    "# This uses & for exclusive values we see LGA was the windies airport in NY on February 12 th, 2013, with gusst of 31.07 mph \n",
    "#again in descending order\n"
   ]
  },
  {
   "cell_type": "code",
   "execution_count": null,
   "id": "0977d2ad",
   "metadata": {},
   "outputs": [],
   "source": []
  }
 ],
 "metadata": {
  "kernelspec": {
   "display_name": "Python 3 (ipykernel)",
   "language": "python",
   "name": "python3"
  },
  "language_info": {
   "codemirror_mode": {
    "name": "ipython",
    "version": 3
   },
   "file_extension": ".py",
   "mimetype": "text/x-python",
   "name": "python",
   "nbconvert_exporter": "python",
   "pygments_lexer": "ipython3",
   "version": "3.9.7"
  }
 },
 "nbformat": 4,
 "nbformat_minor": 5
}
